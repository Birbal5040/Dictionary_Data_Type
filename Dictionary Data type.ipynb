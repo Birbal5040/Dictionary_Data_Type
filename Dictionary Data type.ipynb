{
 "cells": [
  {
   "cell_type": "markdown",
   "id": "560aa25e-3825-4918-a3e0-adbe50b24a79",
   "metadata": {},
   "source": [
    "# Dictionary Data Type"
   ]
  },
  {
   "cell_type": "markdown",
   "id": "91b02421-08d5-4de3-8b2e-d0575988b06d",
   "metadata": {},
   "source": [
    "It is a Key value pairs"
   ]
  },
  {
   "cell_type": "markdown",
   "id": "c3dd75ac-1ad1-4797-9e4f-6ca941881a3e",
   "metadata": {},
   "source": [
    "# Some properties"
   ]
  },
  {
   "cell_type": "markdown",
   "id": "f07aa686-edb0-4b5c-9379-74356b2e89c1",
   "metadata": {},
   "source": [
    "i) Unindexed\n",
    "ii) Ordered\n",
    "iii) Immutable\n",
    "iv) Changebale\n",
    "v) Duplicate are not allowed\n",
    "vi) Mixed different data type are allowed"
   ]
  },
  {
   "cell_type": "markdown",
   "id": "691ca902-0e8a-49d3-81fe-25f3a3df5aef",
   "metadata": {},
   "source": [
    "# Creating Dictionary"
   ]
  },
  {
   "cell_type": "code",
   "execution_count": 3,
   "id": "c8751b1a-f7de-4ddd-b98b-a674bd9f46a8",
   "metadata": {},
   "outputs": [
    {
     "name": "stdout",
     "output_type": "stream",
     "text": [
      "{'Name': 'Birbal kumar', 'Roll_Number': 22105111033, 'Cllege': 'DCE'}\n"
     ]
    }
   ],
   "source": [
    "student={\n",
    "    'Name':\"Birbal kumar\",\n",
    "    'Roll_Number':22105111033,\n",
    "    'Cllege':\"DCE\"\n",
    "}\n",
    "print(student)"
   ]
  },
  {
   "cell_type": "markdown",
   "id": "7e4f7777-2856-4dfc-b12d-a7e6d9d76d23",
   "metadata": {},
   "source": [
    "# Access Value using Key"
   ]
  },
  {
   "cell_type": "code",
   "execution_count": 20,
   "id": "d807c44c-36b7-45f1-94a8-f9add16ea645",
   "metadata": {},
   "outputs": [
    {
     "name": "stdout",
     "output_type": "stream",
     "text": [
      "B.tech\n",
      "{'branch': 'Computer science & engineering', 'duration': 'four year'}\n",
      "['NH 22', 'Nearest Mobbi']\n"
     ]
    }
   ],
   "source": [
    "student={\n",
    "    'Name':\"Birbal kumar\",\n",
    "    'Course':\"B.tech\",\n",
    "    'College_Name':\"Darbhanga college of engineering, Darbhanga\",\n",
    "    'Address': [\"NH 22\",\"Nearest Mobbi\"],\n",
    "    'about':{'branch':\"Computer science & engineering\",'duration': \"four year\",\n",
    "            },\n",
    "}\n",
    "print(student['Course'])\n",
    "print(student['about'])\n",
    "print(student['Address'])"
   ]
  },
  {
   "cell_type": "markdown",
   "id": "f5c25b4d-b03e-4a23-93d0-09ada5729549",
   "metadata": {},
   "source": [
    "# Flexible Key types"
   ]
  },
  {
   "cell_type": "code",
   "execution_count": 33,
   "id": "7d207ff8-8245-49c2-9484-e0ff3c387064",
   "metadata": {},
   "outputs": [
    {
     "name": "stdout",
     "output_type": "stream",
     "text": [
      "{'Name': 'Birbal kumar', 123: 'DCE', (1, 2): 'Integer key', 3.6: 'float key'}\n"
     ]
    }
   ],
   "source": [
    "student={\n",
    "    'Name':\"Birbal kumar\",\n",
    "    123: \"DCE\",\n",
    "    (1,2):\"Integer key\",\n",
    "    3.6:\"float key\",\n",
    "}\n",
    "print(student)"
   ]
  },
  {
   "cell_type": "code",
   "execution_count": null,
   "id": "b2155722-66a6-4eda-a12c-39348ad084b6",
   "metadata": {},
   "outputs": [],
   "source": []
  },
  {
   "cell_type": "markdown",
   "id": "bd215496-b638-4c91-bcd6-9ca7c047d3c2",
   "metadata": {},
   "source": [
    "# Duplicate are not allowed"
   ]
  },
  {
   "cell_type": "code",
   "execution_count": 35,
   "id": "bb1af41b-061f-4f3c-9140-c5e27428222a",
   "metadata": {},
   "outputs": [
    {
     "name": "stdout",
     "output_type": "stream",
     "text": [
      "{'name': 'Birbal kumar', 'College': 'Darbhanga college of engineering, Darbhanga', 'year': 2024}\n",
      "<class 'dict'>\n"
     ]
    }
   ],
   "source": [
    "student={\n",
    "    \"name\":\"Birbal kumar\",\n",
    "    \"College\":\"Darbhanga college of engineering, Darbhanga\",\n",
    "    'year':2024,\n",
    "    \"year\":2024\n",
    "}\n",
    "print(student)\n",
    "print(type(student))"
   ]
  },
  {
   "cell_type": "markdown",
   "id": "391439c4-59bf-45b9-99b4-5c05048ed603",
   "metadata": {},
   "source": [
    "# Concatenation"
   ]
  },
  {
   "cell_type": "code",
   "execution_count": 39,
   "id": "3f576598-409a-46fc-aebd-0e931622c811",
   "metadata": {},
   "outputs": [
    {
     "name": "stdout",
     "output_type": "stream",
     "text": [
      "{1: 10, 2: 20, 3: 30, 4: 40, 5: 50, 6: 60}\n"
     ]
    }
   ],
   "source": [
    "dict1={1:10,2:20,3:30}\n",
    "dict2={4:40,5:50,6:60}\n",
    "dict1.update(dict2)\n",
    "print(dict1)"
   ]
  },
  {
   "cell_type": "code",
   "execution_count": 40,
   "id": "5d6756e8-42aa-4f2e-b844-35a024ed7ead",
   "metadata": {},
   "outputs": [
    {
     "name": "stdout",
     "output_type": "stream",
     "text": [
      "{1: 10, 2: 20, 3: 30, 4: 40, 5: 50, 6: 60, 7: 70, 8: 80, 9: 90}\n"
     ]
    }
   ],
   "source": [
    "dict1={1:10,2:20,3:30}\n",
    "dict2={4:40,5:50,6:60}\n",
    "dict3={7:70,8:80,9:90}\n",
    "dict4={}\n",
    "for d in (dict1,dict2,dict3):\n",
    "    dict4.update(d)\n",
    "    \n",
    "print(dict4)    "
   ]
  },
  {
   "cell_type": "markdown",
   "id": "53713664-47eb-4c41-bb42-05579a74d60b",
   "metadata": {},
   "source": [
    "# <<<<<<<<<<<<<<<<<<"
   ]
  },
  {
   "cell_type": "code",
   "execution_count": 43,
   "id": "a9299321-0b91-4abb-8345-732f89ce584b",
   "metadata": {},
   "outputs": [
    {
     "name": "stdout",
     "output_type": "stream",
     "text": [
      "{1: 1, 2: 4, 3: 9, 4: 16, 5: 25, 6: 36, 7: 49, 8: 64, 9: 81, 10: 100, 11: 121, 12: 144, 13: 169, 14: 196, 15: 225, 16: 256, 17: 289, 18: 324, 19: 361, 20: 400, 21: 441, 22: 484, 23: 529, 24: 576, 25: 625, 26: 676, 27: 729, 28: 784, 29: 841, 30: 900, 31: 961, 32: 1024, 33: 1089, 34: 1156, 35: 1225, 36: 1296, 37: 1369, 38: 1444, 39: 1521, 40: 1600, 41: 1681, 42: 1764, 43: 1849, 44: 1936, 45: 2025, 46: 2116, 47: 2209, 48: 2304, 49: 2401, 50: 2500, 51: 2601, 52: 2704, 53: 2809, 54: 2916, 55: 3025, 56: 3136, 57: 3249, 58: 3364, 59: 3481, 60: 3600, 61: 3721, 62: 3844, 63: 3969, 64: 4096, 65: 4225, 66: 4356, 67: 4489, 68: 4624, 69: 4761, 70: 4900, 71: 5041, 72: 5184, 73: 5329, 74: 5476, 75: 5625, 76: 5776, 77: 5929, 78: 6084, 79: 6241, 80: 6400, 81: 6561, 82: 6724, 83: 6889, 84: 7056, 85: 7225, 86: 7396, 87: 7569, 88: 7744, 89: 7921, 90: 8100, 91: 8281, 92: 8464, 93: 8649, 94: 8836, 95: 9025, 96: 9216, 97: 9409, 98: 9604, 99: 9801, 100: 10000}\n"
     ]
    }
   ],
   "source": [
    "dict={}\n",
    "for num in range(1,101):\n",
    "    dict[num]=num**2\n",
    "\n",
    "print(dict)"
   ]
  },
  {
   "cell_type": "code",
   "execution_count": null,
   "id": "1f104470-d7e5-4d7e-b7ee-97b75b921052",
   "metadata": {},
   "outputs": [],
   "source": []
  },
  {
   "cell_type": "markdown",
   "id": "6aef49c8-9428-462e-9041-e50a22e84cbf",
   "metadata": {},
   "source": [
    "# Check Key exist or not in dict"
   ]
  },
  {
   "cell_type": "code",
   "execution_count": 1,
   "id": "0a0a65c8-e826-4b49-bd14-7f179fdedc7b",
   "metadata": {},
   "outputs": [
    {
     "name": "stdout",
     "output_type": "stream",
     "text": [
      "Key is exist in dictionary\n"
     ]
    }
   ],
   "source": [
    "dict={1:10,2:30,3:40,5:60}\n",
    "def exist(key):\n",
    "    if key in dict:\n",
    "        print(\"Key is exist in dictionary\")\n",
    "       \n",
    "            \n",
    "    else:\n",
    "        print(\"Key is not exist in dictionary\")   \n",
    "\n",
    "exist(2)"
   ]
  },
  {
   "cell_type": "code",
   "execution_count": null,
   "id": "67eed31b-6bc6-4a9d-9606-5a116697bc5c",
   "metadata": {},
   "outputs": [],
   "source": []
  },
  {
   "cell_type": "markdown",
   "id": "73eac9ff-fa0e-4558-b239-6c289d53521d",
   "metadata": {},
   "source": [
    "# Some Problem on Dictionary"
   ]
  },
  {
   "cell_type": "markdown",
   "id": "039eecfb-4aef-4775-a0d6-26943514f27c",
   "metadata": {},
   "source": [
    "## Create a dictionary to store the names of 3 fruits as keys and their colors as values. Access the color of a specific fruit from the dictionary.\n",
    "\n"
   ]
  },
  {
   "cell_type": "code",
   "execution_count": 4,
   "id": "5ccc03ad-0943-4209-8477-d547ee69d787",
   "metadata": {},
   "outputs": [
    {
     "name": "stdout",
     "output_type": "stream",
     "text": [
      "{'Apple': 'Red', 'Mango': 'Yellow', 'Banana': 'White'}\n"
     ]
    }
   ],
   "source": [
    "fruits={\n",
    "    \"Apple\":\"Red\",\n",
    "    \"Mango\":\"Yellow\",\n",
    "    \"Banana\":\"White\",\n",
    "}\n",
    "\n",
    "print(fruits)"
   ]
  },
  {
   "cell_type": "code",
   "execution_count": 6,
   "id": "df158511-172e-46cf-9942-48a8b8b7094b",
   "metadata": {},
   "outputs": [
    {
     "name": "stdout",
     "output_type": "stream",
     "text": [
      "White\n"
     ]
    }
   ],
   "source": [
    "print(fruits['Banana'])"
   ]
  },
  {
   "cell_type": "markdown",
   "id": "01d10ecd-b424-4f08-a769-ac723010a031",
   "metadata": {},
   "source": [
    "## Write a program to create a dictionary with 3 items and update the value of one of the keys."
   ]
  },
  {
   "cell_type": "code",
   "execution_count": 11,
   "id": "a60037e1-757f-4b3e-a999-cbf1324008e8",
   "metadata": {},
   "outputs": [
    {
     "name": "stdout",
     "output_type": "stream",
     "text": [
      "Without update Dictionary :  {'Birbal': 'Saran', 'Gautam': 'Madhubani', 'Harishankar': 'Sitamarhi'}\n",
      "After update Dictionary: {'Birbal': 'Saran', 'Gautam': 'Hajipur', 'Harishankar': 'Sitamarhi'}\n"
     ]
    }
   ],
   "source": [
    "student={\n",
    "    \"Birbal\":\"Saran\",\n",
    "    \"Gautam\":\"Madhubani\",\n",
    "    \"Harishankar\":\"Sitamarhi\",\n",
    "}\n",
    "\n",
    "print(\"Without update Dictionary : \",student)\n",
    "student['Gautam']=\"Hajipur\"\n",
    "print(\"After update Dictionary:\",student)"
   ]
  },
  {
   "cell_type": "code",
   "execution_count": null,
   "id": "038dd594-5b14-4f62-9c68-ca7d0cf5792f",
   "metadata": {},
   "outputs": [],
   "source": []
  },
  {
   "cell_type": "markdown",
   "id": "44d06333-935b-43c3-be9e-796f5514892a",
   "metadata": {},
   "source": [
    "## Create a dictionary and add a new key-value pair to it. Then, remove an existing key from the dictionary."
   ]
  },
  {
   "cell_type": "code",
   "execution_count": 16,
   "id": "3660479d-8ee7-45ea-b0af-e81612b7eee3",
   "metadata": {},
   "outputs": [
    {
     "name": "stdout",
     "output_type": "stream",
     "text": [
      "{'India': 'Bihar', 'Russia': 'Super power', 'French': 'Also super power'}\n",
      "After add new dictionary: {'India': 'Bihar', 'Russia': 'Super power', 'French': 'Also super power', 'Uk': 'Nato'}\n",
      "After delete dictionary: {'India': 'Bihar', 'Russia': 'Super power', 'Uk': 'Nato'}\n"
     ]
    }
   ],
   "source": [
    "country={\n",
    "    \"India\":\"Bihar\",\n",
    "    \"Russia\":\"Super power\",\n",
    "    \"French\":\"Also super power\"\n",
    "}\n",
    "print(country)\n",
    "country['Uk']=\"Nato\"\n",
    "print(\"After add new dictionary:\",country)\n",
    "country.pop(\"French\")\n",
    "print(\"After delete dictionary:\",country)"
   ]
  },
  {
   "cell_type": "markdown",
   "id": "8e247e82-c5e3-4287-935e-ebfeebb20a12",
   "metadata": {},
   "source": [
    "## Write a program to check if a specific key exists in a given dictionary."
   ]
  },
  {
   "cell_type": "code",
   "execution_count": 18,
   "id": "c88458b4-31f6-4856-b2b0-4cdf43772d01",
   "metadata": {},
   "outputs": [
    {
     "name": "stdout",
     "output_type": "stream",
     "text": [
      "China key does not exist\n"
     ]
    }
   ],
   "source": [
    "country={\n",
    "    \"India\":\"Bihar\",\n",
    "    \"Russia\":\"Super power\",\n",
    "    \"French\":\"Also super power\"\n",
    "}\n",
    "if 'China' in country:\n",
    "    print(\"Key China is Exsits\")\n",
    "else:\n",
    "    print(\"China key does not exist\")\n"
   ]
  },
  {
   "cell_type": "code",
   "execution_count": null,
   "id": "0674122c-cd0f-454a-bd81-1c0bdd1ce624",
   "metadata": {},
   "outputs": [],
   "source": []
  },
  {
   "cell_type": "markdown",
   "id": "9e4904b2-5f44-49b8-8636-3aad349c3390",
   "metadata": {},
   "source": [
    "# >>>>>>>>>>>>>>>>>>>>>>"
   ]
  }
 ],
 "metadata": {
  "kernelspec": {
   "display_name": "Python 3 (ipykernel)",
   "language": "python",
   "name": "python3"
  },
  "language_info": {
   "codemirror_mode": {
    "name": "ipython",
    "version": 3
   },
   "file_extension": ".py",
   "mimetype": "text/x-python",
   "name": "python",
   "nbconvert_exporter": "python",
   "pygments_lexer": "ipython3",
   "version": "3.12.4"
  },
  "widgets": {
   "application/vnd.jupyter.widget-state+json": {
    "state": {},
    "version_major": 2,
    "version_minor": 0
   }
  }
 },
 "nbformat": 4,
 "nbformat_minor": 5
}
